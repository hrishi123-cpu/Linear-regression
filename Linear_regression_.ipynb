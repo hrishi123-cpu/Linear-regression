{
  "nbformat": 4,
  "nbformat_minor": 0,
  "metadata": {
    "colab": {
      "name": "Linear regression .ipynb",
      "provenance": []
    },
    "kernelspec": {
      "display_name": "Python 3",
      "name": "python3"
    }
  },
  "cells": [
    {
      "cell_type": "code",
      "metadata": {
        "colab": {
          "background_save": true
        },
        "id": "ebsT0sB8kmWQ"
      },
      "source": [
        "import pandas as pd\r\n",
        "import matplotlib.pyplot as plt"
      ],
      "execution_count": null,
      "outputs": []
    },
    {
      "cell_type": "code",
      "metadata": {
        "colab": {
          "base_uri": "https://localhost:8080/",
          "height": 402
        },
        "id": "i4jeRW43rZwd",
        "outputId": "584e594b-4406-4679-995c-7b2bc602581e"
      },
      "source": [
        "df=pd.read_csv(\"/content/Dataset-28-2-Linear-Regression-work-salary.csv\")\r\n",
        "df"
      ],
      "execution_count": null,
      "outputs": [
        {
          "output_type": "execute_result",
          "data": {
            "text/html": [
              "<div>\n",
              "<style scoped>\n",
              "    .dataframe tbody tr th:only-of-type {\n",
              "        vertical-align: middle;\n",
              "    }\n",
              "\n",
              "    .dataframe tbody tr th {\n",
              "        vertical-align: top;\n",
              "    }\n",
              "\n",
              "    .dataframe thead th {\n",
              "        text-align: right;\n",
              "    }\n",
              "</style>\n",
              "<table border=\"1\" class=\"dataframe\">\n",
              "  <thead>\n",
              "    <tr style=\"text-align: right;\">\n",
              "      <th></th>\n",
              "      <th>Salary</th>\n",
              "      <th>WorkExperience</th>\n",
              "    </tr>\n",
              "  </thead>\n",
              "  <tbody>\n",
              "    <tr>\n",
              "      <th>0</th>\n",
              "      <td>63.615</td>\n",
              "      <td>44</td>\n",
              "    </tr>\n",
              "    <tr>\n",
              "      <th>1</th>\n",
              "      <td>318.378</td>\n",
              "      <td>230</td>\n",
              "    </tr>\n",
              "    <tr>\n",
              "      <th>2</th>\n",
              "      <td>169.841</td>\n",
              "      <td>97</td>\n",
              "    </tr>\n",
              "    <tr>\n",
              "      <th>3</th>\n",
              "      <td>120.629</td>\n",
              "      <td>39</td>\n",
              "    </tr>\n",
              "    <tr>\n",
              "      <th>4</th>\n",
              "      <td>301.733</td>\n",
              "      <td>216</td>\n",
              "    </tr>\n",
              "    <tr>\n",
              "      <th>...</th>\n",
              "      <td>...</td>\n",
              "      <td>...</td>\n",
              "    </tr>\n",
              "    <tr>\n",
              "      <th>223</th>\n",
              "      <td>185.690</td>\n",
              "      <td>119</td>\n",
              "    </tr>\n",
              "    <tr>\n",
              "      <th>224</th>\n",
              "      <td>334.122</td>\n",
              "      <td>233</td>\n",
              "    </tr>\n",
              "    <tr>\n",
              "      <th>225</th>\n",
              "      <td>296.912</td>\n",
              "      <td>213</td>\n",
              "    </tr>\n",
              "    <tr>\n",
              "      <th>226</th>\n",
              "      <td>293.243</td>\n",
              "      <td>200</td>\n",
              "    </tr>\n",
              "    <tr>\n",
              "      <th>227</th>\n",
              "      <td>222.581</td>\n",
              "      <td>155</td>\n",
              "    </tr>\n",
              "  </tbody>\n",
              "</table>\n",
              "<p>228 rows × 2 columns</p>\n",
              "</div>"
            ],
            "text/plain": [
              "      Salary  WorkExperience\n",
              "0     63.615              44\n",
              "1    318.378             230\n",
              "2    169.841              97\n",
              "3    120.629              39\n",
              "4    301.733             216\n",
              "..       ...             ...\n",
              "223  185.690             119\n",
              "224  334.122             233\n",
              "225  296.912             213\n",
              "226  293.243             200\n",
              "227  222.581             155\n",
              "\n",
              "[228 rows x 2 columns]"
            ]
          },
          "metadata": {
            "tags": []
          },
          "execution_count": 3
        }
      ]
    },
    {
      "cell_type": "code",
      "metadata": {
        "id": "IUcwTiPVroQg"
      },
      "source": [
        "from sklearn.model_selection import train_test_split\r\n",
        "X = df.drop(\"Salary\", axis=1)\r\n",
        "y = df['Salary']\r\n",
        "\r\n",
        "X_train,X_test,y_train,y_test= train_test_split(X,y, test_size = 0.2,\\\r\n",
        "                                                   random_state=112)"
      ],
      "execution_count": null,
      "outputs": []
    },
    {
      "cell_type": "code",
      "metadata": {
        "id": "QY17oOWVrwPv"
      },
      "source": [
        "from sklearn.linear_model import LinearRegression\r\n",
        "my_model = LinearRegression() \r\n",
        "  \r\n",
        "result = my_model.fit(X_train, y_train) "
      ],
      "execution_count": null,
      "outputs": []
    },
    {
      "cell_type": "code",
      "metadata": {
        "colab": {
          "base_uri": "https://localhost:8080/"
        },
        "id": "oDCxbs1Qr1PY",
        "outputId": "614d7f4a-696f-4120-e6cf-96c966a54e32"
      },
      "source": [
        "predictions = result.predict(X_test) \r\n",
        "predictions"
      ],
      "execution_count": null,
      "outputs": [
        {
          "output_type": "execute_result",
          "data": {
            "text/plain": [
              "array([330.99954945, 289.3666253 , 310.81388926, 166.99106037,\n",
              "       114.00370236, 260.34973877, 308.29068173, 108.95728731,\n",
              "       320.90671935, 272.96577639, 155.63662651, 125.35813622,\n",
              "       231.33285224, 140.49738136, 132.92775879, 193.48473937,\n",
              "       141.75898512,  87.51002335, 327.21473817,  73.63238197,\n",
              "       170.77587165, 324.69153064, 266.65775758, 172.03747542,\n",
              "       137.97417384, 103.91087226, 134.18936255, 102.6492685 ,\n",
              "        82.4636083 , 203.57756947, 225.02483343, 290.62822906,\n",
              "       264.13455006, 119.05011741, 294.41304035,  77.41719325,\n",
              "       197.26955066,  64.80115563, 143.02058889,  92.5564384 ,\n",
              "       192.22313561, 135.45096631, 144.28219265, 115.26530612,\n",
              "       100.12606097, 145.54379641])"
            ]
          },
          "metadata": {
            "tags": []
          },
          "execution_count": 7
        }
      ]
    },
    {
      "cell_type": "code",
      "metadata": {
        "colab": {
          "base_uri": "https://localhost:8080/",
          "height": 282
        },
        "id": "jELo6uTJr32h",
        "outputId": "65a1d0ba-2090-4b59-eaad-a10c8bc43d54"
      },
      "source": [
        "plt.scatter(X_train, y_train, color ='c') \r\n",
        "plt.plot(X_test, predictions, color ='b') "
      ],
      "execution_count": null,
      "outputs": [
        {
          "output_type": "execute_result",
          "data": {
            "text/plain": [
              "[<matplotlib.lines.Line2D at 0x7fb02fa5e5f8>]"
            ]
          },
          "metadata": {
            "tags": []
          },
          "execution_count": 8
        },
        {
          "output_type": "display_data",
          "data": {
            "image/png": "[encoded data removed]",
            "text/plain": [
              "<Figure size 432x288 with 1 Axes>"
            ]
          },
          "metadata": {
            "tags": []
          }
        }
      ]
    },
    {
      "cell_type": "code",
      "metadata": {
        "colab": {
          "base_uri": "https://localhost:8080/"
        },
        "id": "TNi12h1Mr6go",
        "outputId": "9ff02b87-2d25-47c3-a7d9-999bd32e0241"
      },
      "source": [
        "from sklearn.metrics import r2_score\r\n",
        "r2_score(y_test,predictions)"
      ],
      "execution_count": null,
      "outputs": [
        {
          "output_type": "execute_result",
          "data": {
            "text/plain": [
              "0.9032603029937458"
            ]
          },
          "metadata": {
            "tags": []
          },
          "execution_count": 9
        }
      ]
    },
    {
      "cell_type": "code",
      "metadata": {
        "colab": {
          "base_uri": "https://localhost:8080/"
        },
        "id": "FzmNVEarr-uR",
        "outputId": "eab018ae-daf0-4896-b934-753a60161534"
      },
      "source": [
        "pred_new=result.predict([[55]]) \r\n",
        "pred_new"
      ],
      "execution_count": null,
      "outputs": [
        {
          "output_type": "execute_result",
          "data": {
            "text/plain": [
              "array([103.91087226])"
            ]
          },
          "metadata": {
            "tags": []
          },
          "execution_count": 10
        }
      ]
    }
  ]
}